{
 "cells": [
  {
   "cell_type": "code",
   "execution_count": null,
   "metadata": {},
   "outputs": [],
   "source": [
    "import os\n",
    "import tarfile\n",
    "\n",
    "folder=\"/root/mzizioli/planGPT-OGR/total_dataset/block-sworld/10\"\n",
    "destination_folder = \"/root/mzizioli/planGPT-OGR/blocksworld-dataset-tesi/10\"\n",
    "cont=0\n",
    "# Itera attraverso i file nella cartella\n",
    "for file in os.listdir(folder):    \n",
    "    if file.endswith('_1.tar.bz2'): # or (\"aaai\" in file)\n",
    "        cont+=1\n",
    "        # Costruisci il percorso completo del file .tar.bz2\n",
    "        percorso_tar_bz2 = os.path.join(folder, file)\n",
    "        \n",
    "        # Crea una cartella con il nome del file (senza estensione)\n",
    "        nome_cartella = file[:-8]  # Rimuovi l'estensione .tar.bz2\n",
    "        percorso_cartella = os.path.join(destination_folder, nome_cartella)\n",
    "        os.makedirs(percorso_cartella, exist_ok=True)\n",
    "\n",
    "        # Estrai il file .tar.bz2 nella cartella creata\n",
    "        with tarfile.open(percorso_tar_bz2, 'r:bz2') as tar_ref:\n",
    "            tar_ref.extractall(percorso_cartella)\n",
    "        \n",
    "        print(f'Estrazione completata in: {percorso_cartella}')\n",
    "print(cont)"
   ]
  },
  {
   "cell_type": "code",
   "execution_count": null,
   "metadata": {},
   "outputs": [],
   "source": [
    "import os\n",
    "import zipfile\n",
    "\n",
    "folder=\"/root/mzizioli/planGPT-OGR/total_dataset/zenotravel/70\"\n",
    "destination_folder = \"/root/mzizioli/planGPT-OGR/zenotravel-dataset-tesi/70\"\n",
    "cont=0\n",
    "\n",
    "for file in os.listdir(folder):    \n",
    "    #if file.endswith('.zip'): \n",
    "    for f in lista_file:\n",
    "        if f in file:\n",
    "            cont+=1       \n",
    "            percorso_zip = os.path.join(folder, file)        \n",
    "            \n",
    "            nome_cartella = file[:-4]  \n",
    "            percorso_cartella = os.path.join(destination_folder, nome_cartella)\n",
    "            os.makedirs(percorso_cartella, exist_ok=True)    \n",
    "        \n",
    "            with zipfile.ZipFile(percorso_zip, 'r') as zip_ref:\n",
    "                zip_ref.extractall(percorso_cartella)\n",
    "            \n",
    "            print(f'Estrazione completata in: {percorso_cartella}')\n",
    "    # if cont==72:\n",
    "    #     break\n",
    "print(cont)    \n",
    "    "
   ]
  }
 ],
 "metadata": {
  "kernelspec": {
   "display_name": "Python 3",
   "language": "python",
   "name": "python3"
  },
  "language_info": {
   "codemirror_mode": {
    "name": "ipython",
    "version": 3
   },
   "file_extension": ".py",
   "mimetype": "text/x-python",
   "name": "python",
   "nbconvert_exporter": "python",
   "pygments_lexer": "ipython3",
   "version": "3.10.12"
  }
 },
 "nbformat": 4,
 "nbformat_minor": 2
}
